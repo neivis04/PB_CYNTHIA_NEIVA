{
 "cells": [
  {
   "cell_type": "markdown",
   "metadata": {},
   "source": [
    "## Etapa 01 - Ator/atriz com o Maior Número de Filmes ##"
   ]
  },
  {
   "cell_type": "code",
   "execution_count": 1,
   "metadata": {},
   "outputs": [
    {
     "name": "stdout",
     "output_type": "stream",
     "text": [
      "O ator/atriz com o maior número de filmes é \"Robert Downey, com 3947 filmes.\n"
     ]
    }
   ],
   "source": [
    "# Abrindo e lendo o arquivo actors.csv\n",
    "with open('actors.csv', 'r', encoding='utf-8') as file:\n",
    "    lines = file.readlines()  # Lê todas as linhas do arquivo\n",
    "\n",
    "# Identificando os índices das colunas\n",
    "header = lines[0].strip().split(',')  # Lê o cabeçalho\n",
    "actor_index = header.index('Actor')\n",
    "num_movies_index = header.index('Number of Movies')\n",
    "\n",
    "# Variáveis para armazenar o ator com maior número de filmes e a quantidade correspondente\n",
    "max_movies = 0\n",
    "top_actor = \"\"\n",
    "\n",
    "# Iterando sobre os dados\n",
    "for row in lines[1:]:\n",
    "    data = row.strip().split(',')  # Dividir pelos separadores\n",
    "\n",
    "    try:\n",
    "        # Tentar converter para inteiro, ignorando valores não inteiros\n",
    "        num_movies = int(float(data[num_movies_index].strip()))  # Converter para float e depois para int\n",
    "    except ValueError:\n",
    "        print(f\"Valor inválido encontrado: {data[num_movies_index]}. Pulando esta linha.\")\n",
    "        continue  # Ignorar esta linha e continuar\n",
    "\n",
    "    if num_movies > max_movies:\n",
    "        max_movies = num_movies\n",
    "        top_actor = data[actor_index]\n",
    "\n",
    "# Resultado\n",
    "result = f'O ator/atriz com o maior número de filmes é {top_actor}, com {max_movies} filmes.'\n",
    "\n",
    "# Exibindo o resultado\n",
    "print(result)\n",
    "\n",
    "# Criando e escrevendo o resultado em um arquivo de texto\n",
    "with open('etapa_1.txt', 'w', encoding='utf-8') as output_file:\n",
    "    output_file.write(result)  # Escreve o resultado no arquivo\n"
   ]
  },
  {
   "cell_type": "markdown",
   "metadata": {},
   "source": [
    "## Etapa 02 - Média da Receita Bruta de Bilheteria (Gross) ## "
   ]
  },
  {
   "cell_type": "code",
   "execution_count": 2,
   "metadata": {},
   "outputs": [
    {
     "name": "stdout",
     "output_type": "stream",
     "text": [
      "Valor inválido ignorado: The Avengers\n",
      "Média da receita bruta (Gross) de todos os atores: 424.72\n"
     ]
    }
   ],
   "source": [
    "# Abrindo e lendo o arquivo actors.csv\n",
    "with open('actors.csv', 'r', encoding='utf-8') as file:\n",
    "    lines = file.readlines()\n",
    "\n",
    "# Processando o cabeçalho e identificando o índice da coluna \"Gross\"\n",
    "header = lines[0].strip().split(',')\n",
    "gross_index = header.index('Gross')\n",
    "\n",
    "# Variáveis para cálculo da média\n",
    "total_gross = 0\n",
    "count = 0\n",
    "\n",
    "# Iterando sobre as linhas para somar o valor bruto e contar os atores\n",
    "for row in lines[1:]:\n",
    "    data = row.strip().split(',')\n",
    "    try:\n",
    "        total_gross += float(data[gross_index].strip())\n",
    "        count += 1\n",
    "    except ValueError:\n",
    "        print(f\"Valor inválido ignorado: {data[gross_index]}\")\n",
    "\n",
    "# Calculando a média\n",
    "average_gross = total_gross / count if count > 0 else 0\n",
    "result = f\"Média da receita bruta (Gross) de todos os atores: {average_gross:.2f}\"\n",
    "\n",
    "# Exibindo o resultado\n",
    "print(result)\n",
    "\n",
    "# Criando e escrevendo o resultado em um arquivo de texto\n",
    "with open('etapa_2.txt', 'w', encoding='utf-8') as output_file:\n",
    "    output_file.write(result)  # Escreve o resultado no arquivo\n"
   ]
  },
  {
   "cell_type": "markdown",
   "metadata": {},
   "source": [
    "## Etapa 03 - Ator/Atriz com Maior Média de Receita por Filme ##"
   ]
  },
  {
   "cell_type": "code",
   "execution_count": 3,
   "metadata": {},
   "outputs": [
    {
     "name": "stdout",
     "output_type": "stream",
     "text": [
      "O ator/atriz com a maior média de receita por filme é Anthony Daniels, com média de 451.80.\n"
     ]
    }
   ],
   "source": [
    "# Abrindo e lendo o arquivo actors.csv\n",
    "with open('actors.csv', 'r', encoding='utf-8') as file:\n",
    "    lines = file.readlines()\n",
    "\n",
    "# Processando o cabeçalho e identificando o índice da coluna \"Average per Movie\"\n",
    "header = lines[0].strip().split(',')\n",
    "average_index = header.index('Average per Movie')\n",
    "\n",
    "# Variáveis para armazenar o ator com a maior média\n",
    "max_average = 0\n",
    "top_actor = \"\"\n",
    "\n",
    "# Iterando para encontrar o maior valor\n",
    "for row in lines[1:]:\n",
    "    data = row.strip().split(',')\n",
    "    try:\n",
    "        average = float(data[average_index].strip())\n",
    "        if average > max_average:\n",
    "            max_average = average\n",
    "            top_actor = data[header.index('Actor')]\n",
    "    except ValueError:\n",
    "        print(f\"Valor inválido ignorado: {data[average_index]}\")\n",
    "\n",
    "# Resultado a ser salvo e exibido\n",
    "result = f'O ator/atriz com a maior média de receita por filme é {top_actor}, com média de {max_average:.2f}.'\n",
    "\n",
    "# Exibindo o resultado no console\n",
    "print(result)\n",
    "\n",
    "# Criando e escrevendo o resultado em um arquivo de texto\n",
    "with open('etapa_3.txt', 'w', encoding='utf-8') as output_file:\n",
    "    output_file.write(result)  # Escreve o resultado no arquivo\n"
   ]
  },
  {
   "cell_type": "markdown",
   "metadata": {},
   "source": [
    "## Etapa 04 - Contagem de Aparições dos Filmes na Coluna \"#1 Movie\" ##"
   ]
  },
  {
   "cell_type": "code",
   "execution_count": 4,
   "metadata": {},
   "outputs": [
    {
     "name": "stdout",
     "output_type": "stream",
     "text": [
      "1 - O filme 'The Avengers' aparece 5 vez(es) no dataset.\n",
      "2 - O filme 'Catching Fire' aparece 4 vez(es) no dataset.\n",
      "3 - O filme 'Harry Potter / Deathly Hallows (P2)' aparece 4 vez(es) no dataset.\n",
      "4 - O filme 'Meet the Fockers' aparece 3 vez(es) no dataset.\n",
      "5 - O filme 'Star Wars: The Force Awakens' aparece 3 vez(es) no dataset.\n",
      "6 - O filme 'The Dark Knight' aparece 3 vez(es) no dataset.\n",
      "7 - O filme 'Avengers: Age of Ultron' aparece 2 vez(es) no dataset.\n",
      "8 - O filme 'Dead Man's Chest' aparece 2 vez(es) no dataset.\n",
      "9 - O filme 'Night at the Museum' aparece 2 vez(es) no dataset.\n",
      "10 - O filme 'Return of the King' aparece 2 vez(es) no dataset.\n",
      "11 - O filme 'Shrek 2' aparece 2 vez(es) no dataset.\n",
      "12 - O filme '74.50' aparece 1 vez(es) no dataset.\n",
      "13 - O filme 'American Sniper' aparece 1 vez(es) no dataset.\n",
      "14 - O filme 'Hotel Transylvania 2' aparece 1 vez(es) no dataset.\n",
      "15 - O filme 'Independence Day' aparece 1 vez(es) no dataset.\n",
      "16 - O filme 'Men in Black' aparece 1 vez(es) no dataset.\n",
      "17 - O filme 'Minions' aparece 1 vez(es) no dataset.\n",
      "18 - O filme 'Ocean's Eleven' aparece 1 vez(es) no dataset.\n",
      "19 - O filme 'Sixth Sense' aparece 1 vez(es) no dataset.\n",
      "20 - O filme 'The Dark Knight Rises' aparece 1 vez(es) no dataset.\n",
      "21 - O filme 'The Grinch' aparece 1 vez(es) no dataset.\n",
      "22 - O filme 'The LEGO Movie' aparece 1 vez(es) no dataset.\n",
      "23 - O filme 'The Martian' aparece 1 vez(es) no dataset.\n",
      "24 - O filme 'The Phantom Menace' aparece 1 vez(es) no dataset.\n",
      "25 - O filme 'Titanic' aparece 1 vez(es) no dataset.\n",
      "26 - O filme 'Toy Story 3' aparece 1 vez(es) no dataset.\n",
      "27 - O filme 'Transformers 4' aparece 1 vez(es) no dataset.\n",
      "28 - O filme 'War of the Worlds' aparece 1 vez(es) no dataset.\n",
      "29 - O filme 'World War Z' aparece 1 vez(es) no dataset.\n"
     ]
    }
   ],
   "source": [
    "from collections import Counter\n",
    "\n",
    "# Abrindo e lendo o arquivo actors.csv\n",
    "with open('actors.csv', 'r', encoding='utf-8') as file:\n",
    "    lines = file.readlines()\n",
    "\n",
    "# Processando o cabeçalho\n",
    "header = lines[0].strip().split(',')\n",
    "movie_index = header.index('#1 Movie')\n",
    "\n",
    "# Contador para armazenar a frequência dos filmes\n",
    "movie_counter = Counter()\n",
    "\n",
    "# Contando as aparições de cada filme\n",
    "for row in lines[1:]:\n",
    "    data = row.strip().split(',')\n",
    "    movie = data[movie_index].strip()\n",
    "    movie_counter[movie] += 1\n",
    "\n",
    "# Ordenando os filmes por frequência (decrescente) e por nome (crescente)\n",
    "sorted_movies = sorted(movie_counter.items(), key=lambda x: (-x[1], x[0]))\n",
    "\n",
    "# Resultado a ser salvo\n",
    "result_lines = []\n",
    "for i, (movie, count) in enumerate(sorted_movies, start=1):\n",
    "    result_line = f\"{i} - O filme '{movie}' aparece {count} vez(es) no dataset.\"\n",
    "    print(result_line)  # Exibindo o resultado no console\n",
    "    result_lines.append(result_line)  # Armazenando o resultado para o arquivo\n",
    "\n",
    "# Criando e escrevendo o resultado em um arquivo de texto\n",
    "with open('etapa_4.txt', 'w', encoding='utf-8') as output_file:\n",
    "    output_file.write(\"\\n\".join(result_lines))  # Escreve todas as linhas no arquivo\n"
   ]
  },
  {
   "cell_type": "markdown",
   "metadata": {},
   "source": [
    "## Etapa 05 - Listar os Atores e Suas Receitas Totais Brutas  ##"
   ]
  },
  {
   "cell_type": "code",
   "execution_count": 5,
   "metadata": {},
   "outputs": [
    {
     "name": "stdout",
     "output_type": "stream",
     "text": [
      "Valor inválido encontrado: ['\"Robert Downey', ' Jr.\"', '3947.30 ', '53', '74.50 ', 'The Avengers', '623.40']\n",
      "Harrison Ford - 4871.70\n",
      "Samuel L. Jackson - 4772.80\n",
      "Morgan Freeman - 4468.30\n",
      "Tom Hanks - 4340.80\n",
      "Eddie Murphy - 3810.40\n",
      "Tom Cruise - 3587.20\n",
      "Johnny Depp - 3368.60\n",
      "Michael Caine - 3351.50\n",
      "Scarlett Johansson - 3341.20\n",
      "Gary Oldman - 3294.00\n",
      "Robin Williams - 3279.30\n",
      "Bruce Willis - 3189.40\n",
      "Stellan Skarsgard - 3175.00\n",
      "Anthony Daniels - 3162.90\n",
      "Ian McKellen - 3150.40\n",
      "Will Smith - 3149.10\n",
      "Stanley Tucci - 3123.90\n",
      "Matt Damon - 3107.30\n",
      "Robert DeNiro - 3081.30\n",
      "Cameron Diaz - 3031.70\n",
      "Liam Neeson - 2942.70\n",
      "Andy Serkis - 2890.60\n",
      "Don Cheadle - 2885.40\n",
      "Ben Stiller - 2827.00\n",
      "Helena Bonham Carter - 2822.00\n",
      "Orlando Bloom - 2815.80\n",
      "Woody Harrelson - 2815.80\n",
      "Cate Blanchett - 2802.60\n",
      "Julia Roberts - 2735.30\n",
      "Elizabeth Banks - 2726.30\n",
      "Ralph Fiennes - 2715.30\n",
      "Emma Watson - 2681.90\n",
      "Tommy Lee Jones - 2681.30\n",
      "Brad Pitt - 2680.90\n",
      "Adam Sandler - 2661.00\n",
      "Daniel Radcliffe - 2634.40\n",
      "Jonah Hill - 2605.10\n",
      "Owen Wilson - 2602.30\n",
      "Idris Elba - 2580.60\n",
      "Bradley Cooper - 2557.70\n",
      "Mark Wahlberg - 2549.80\n",
      "Jim Carrey - 2545.20\n",
      "Dustin Hoffman - 2522.10\n",
      "Leonardo DiCaprio - 2518.30\n",
      "Jeremy Renner - 2500.30\n",
      "Philip Seymour Hoffman - 2463.70\n",
      "Sandra Bullock - 2462.60\n",
      "Chris Evans - 2457.80\n",
      "Anne Hathaway - 2416.50\n"
     ]
    }
   ],
   "source": [
    "# Abrindo e lendo o arquivo actors.csv\n",
    "with open('actors.csv', 'r', encoding='utf-8') as file:\n",
    "    lines = file.readlines()\n",
    "\n",
    "# Processando o cabeçalho\n",
    "header = lines[0].strip().split(',')\n",
    "actor_index = header.index('Actor')\n",
    "total_gross_index = header.index('Total Gross')\n",
    "\n",
    "# Lista para armazenar os atores e suas receitas\n",
    "actors_gross = []\n",
    "\n",
    "# Iterando sobre as linhas para extrair os dados\n",
    "for row in lines[1:]:\n",
    "    data = row.strip().split(',')\n",
    "    try:\n",
    "        actor = data[actor_index].strip()\n",
    "        total_gross = float(data[total_gross_index].strip())\n",
    "        actors_gross.append((actor, total_gross))\n",
    "    except ValueError:\n",
    "        print(f\"Valor inválido encontrado: {data}\")\n",
    "\n",
    "# Ordenando pela receita total em ordem decrescente\n",
    "actors_gross.sort(key=lambda x: x[1], reverse=True)\n",
    "\n",
    "# Resultado a ser salvo\n",
    "result_lines = []\n",
    "for actor, gross in actors_gross:\n",
    "    result_line = f\"{actor} - {gross:.2f}\"\n",
    "    print(result_line)  # Exibindo o resultado no console\n",
    "    result_lines.append(result_line)  # Armazenando o resultado para o arquivo\n",
    "\n",
    "# Criando e escrevendo o resultado em um arquivo de texto\n",
    "with open('etapa_5.txt', 'w', encoding='utf-8') as output_file:\n",
    "    output_file.write(\"\\n\".join(result_lines))  # Escreve todas as linhas no arquivo\n"
   ]
  }
 ],
 "metadata": {
  "kernelspec": {
   "display_name": "Python 3",
   "language": "python",
   "name": "python3"
  },
  "language_info": {
   "codemirror_mode": {
    "name": "ipython",
    "version": 3
   },
   "file_extension": ".py",
   "mimetype": "text/x-python",
   "name": "python",
   "nbconvert_exporter": "python",
   "pygments_lexer": "ipython3",
   "version": "3.13.0"
  }
 },
 "nbformat": 4,
 "nbformat_minor": 2
}
